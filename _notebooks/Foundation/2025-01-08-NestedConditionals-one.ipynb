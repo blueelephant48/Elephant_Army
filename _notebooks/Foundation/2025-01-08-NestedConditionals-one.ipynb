{
 "cells": [
  {
   "cell_type": "raw",
   "metadata": {
    "vscode": {
     "languageId": "raw"
    }
   },
   "source": [
    "---\n",
    "layout: post\n",
    "title: Nested Conditionals, Part One \n",
    "description:  Introducing nested conditionals\n",
    "type: issues \n",
    "comments: true\n",
    "---"
   ]
  },
  {
   "cell_type": "markdown",
   "metadata": {},
   "source": [
    "<h1>Conditionals</h1>\n",
    "\n",
    "Conditionals in coding are if/else statements. They are used to determine what an output should be used for a given input. For example, if you have enough tickets, you can buy a prize - but if you don't, you can't buy it."
   ]
  },
  {
   "cell_type": "code",
   "execution_count": null,
   "metadata": {
    "vscode": {
     "languageId": "javascript"
    }
   },
   "outputs": [],
   "source": [
    "let tickets = 5 //the message you get depends on this value\n",
    "\n",
    "if (tickets >= 10){\n",
    "    displayMessage(\"You can get this prize!\");\n",
    "} else {\n",
    "    displayMessage(\"Sorry, you don't have enough tickets for this prize.\");\n",
    "}"
   ]
  },
  {
   "cell_type": "markdown",
   "metadata": {},
   "source": [
    "<h1>Nested Conditionals</h1>\n",
    "\n",
    "Nested conditionals are when you have if/else statements inside an if/else statement, making them \"nested\" inside one another. If you fufill the requirement for one loop, you go to the next; if you don't fufill the requirement for the loop, then you're prevented from going forward.\n",
    "\n",
    "Using nested conditionals makes it so you can have more outcomes that were affected by whether or a certain value was reached or what else you're checking in a loop. For example, the code below has three different possible outcomes depending on the factors given."
   ]
  },
  {
   "cell_type": "code",
   "execution_count": null,
   "metadata": {
    "vscode": {
     "languageId": "javascript"
    }
   },
   "outputs": [],
   "source": [
    "//Can change both of these values to get a different outcome\n",
    "let tickets = 10 \n",
    "let minutesLeft = 30\n",
    "\n",
    "if(tickets >= 10){\n",
    "    if(minutesLeft >= 45){\n",
    "        displayMessage(\"You have enough time and tickets to go on one more ride.\")\n",
    "    } else {\n",
    "        displayMessage(\"You don't have enough time to do anything! Maybe save your tickets for next time.\")\n",
    "    }\n",
    "} else {\n",
    "    displayMessage(\"Sorry! You don't have enough tickets to do anything.\")\n",
    "}"
   ]
  }
 ],
 "metadata": {
  "kernelspec": {
   "display_name": "Python 3",
   "language": "python",
   "name": "python3"
  },
  "language_info": {
   "codemirror_mode": {
    "name": "ipython",
    "version": 3
   },
   "file_extension": ".py",
   "mimetype": "text/x-python",
   "name": "python",
   "nbconvert_exporter": "python",
   "pygments_lexer": "ipython3",
   "version": "3.12.3"
  }
 },
 "nbformat": 4,
 "nbformat_minor": 2
}
