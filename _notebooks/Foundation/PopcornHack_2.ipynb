{
 "cells": [
  {
   "cell_type": "markdown",
   "metadata": {},
   "source": [
    "### Popcorn Hack 2\n",
    "\n",
    "This code uses boolean to check if a person has the unlimited amusement food card. If they do, then they are allowed to buy any food that they want for free. It also checks if that food is in stock. Add code for another type of food and take into account whether or not the food is in stock."
   ]
  },
  {
   "cell_type": "code",
   "execution_count": null,
   "metadata": {
    "vscode": {
     "languageId": "javascript"
    }
   },
   "outputs": [],
   "source": [
    "let foodCard = true;\n",
    "let money = 1;\n",
    "let foodChoice = \"cotton candy\";\n",
    "let popcorn = true; //popcorn is in stock\n",
    "let cottonCandy = false; //cotton candy is in stock\n",
    "\n",
    "\n",
    "if (foodCard === true) {\n",
    "    if (foodChoice === \"popcorn\") {\n",
    "        if (popcorn === true){ // checks if popcorn is in stock\n",
    "            console.log(\"Yum! The popcorn is tasty!\");\n",
    "        } else {\n",
    "            console.log(\"Oh, sorry, the popcorn is out of stock. Try buying something else!\");\n",
    "        }\n",
    "    } else if (foodChoice === \"cotton candy\"){\n",
    "        if (cottonCandy === true){ //checks if cotton candy is in stock\n",
    "            console.log(\"Yum! The cotton candy is tasty!\");\n",
    "        } else {\n",
    "            console.log(\"Oh, sorry, the cotton candy is out of stock. Try buying something else!\");\n",
    "        }\n",
    "    }\n",
    "} else {\n",
    "    if (foodChoice === \"popcorn\") {\n",
    "        if (popcorn === true){\n",
    "            if (money >= 8){ // checks if you have enough money to buy\n",
    "                console.log(\"Yay! You can buy the popcorn!\");\n",
    "            } else {\n",
    "                console.log(\"Oh... you can't buy the popcorn.\");\n",
    "            }\n",
    "        } else {\n",
    "            console.log(\"Oh, sorry, the popcorn is out of stock. Try buying something else!\");\n",
    "        }\n",
    "    } else if (foodChoice === \"cotton candy\"){\n",
    "        if (cottonCandy === true){\n",
    "            if (money >= 5){\n",
    "                console.log(\"Yay! You can buy the cotton candy!\");\n",
    "            } else {\n",
    "                console.log(\"Oh... you can't buy the cotton candy.\");\n",
    "            }\n",
    "        } else {\n",
    "            console.log(\"Oh, sorry, the cotton candy is out of stock. Try buying something else!\");\n",
    "        }\n",
    "    }\n",
    "}"
   ]
  }
 ],
 "metadata": {
  "language_info": {
   "name": "python"
  }
 },
 "nbformat": 4,
 "nbformat_minor": 2
}
