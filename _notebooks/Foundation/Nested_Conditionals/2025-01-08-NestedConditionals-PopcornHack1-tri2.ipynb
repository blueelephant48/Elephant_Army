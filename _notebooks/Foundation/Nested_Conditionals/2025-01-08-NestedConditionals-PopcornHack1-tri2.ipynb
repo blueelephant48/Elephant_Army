{
 "cells": [
  {
   "cell_type": "raw",
   "metadata": {
    "vscode": {
     "languageId": "raw"
    }
   },
   "source": [
    "---\n",
    "layout: post\n",
    "title: Nested Conditionals, Popcorn Hack One\n",
    "description:  First popcorn hack for nested conditonals\n",
    "type: issues \n",
    "comments: true\n",
    "---"
   ]
  },
  {
   "cell_type": "markdown",
   "metadata": {},
   "source": [
    "### Popcorn Hack 1\n",
    "\n",
    "This code has the option to let the player go on a ride of their choosing, and either lets them go on the ride or does not let them go on the ride based on their amount of tickets that they have. Try adding some code that makes it so that the code also takes into account the height of the person trying to ride the ride and have it be another constraint that determines whether or not the person goes on a ride."
   ]
  },
  {
   "cell_type": "code",
   "execution_count": 3,
   "metadata": {
    "vscode": {
     "languageId": "javascript"
    }
   },
   "outputs": [
    {
     "data": {
      "application/javascript": "\nlet ticketAmount = 60; // Makes the ticket amount be 60\nlet ride = \"Ferris Wheel\"; // sets the ride that the person wants to ride on\n\nfunction enoughTickets(a) {//Uses parameters\n    if (ticketAmount >= a) {\n        console.log(\"You have enough tickets...\");\n    } else {\n        console.log(\"You don't have enough tickets... :(\");\n    }\n}\n\nif (ride === \"Roller Coaster\") {\n    enoughTickets(60); //Nests the function and the conditionals\n} else if (ride === \"Ferris Wheel\") {\n    enoughTickets(40);\n}\n",
      "text/plain": [
       "<IPython.core.display.Javascript object>"
      ]
     },
     "metadata": {},
     "output_type": "display_data"
    }
   ],
   "source": [
    "%%js\n",
    "\n",
    "let ticketAmount = 60; // Makes the ticket amount be 60\n",
    "let ride = \"Ferris Wheel\"; // sets the ride that the person wants to ride on\n",
    "\n",
    "function enoughTickets(a) {//Uses parameters\n",
    "    if (ticketAmount >= a) {\n",
    "        console.log(\"You have enough tickets...\");\n",
    "    } else {\n",
    "        console.log(\"You don't have enough tickets... :(\");\n",
    "    }\n",
    "}\n",
    "\n",
    "if (ride === \"Roller Coaster\") {\n",
    "    enoughTickets(60); //Nests the function and the conditionals\n",
    "} else if (ride === \"Ferris Wheel\") {\n",
    "    enoughTickets(40);\n",
    "}"
   ]
  }
 ],
 "metadata": {
  "kernelspec": {
   "display_name": "Python 3",
   "language": "python",
   "name": "python3"
  },
  "language_info": {
   "codemirror_mode": {
    "name": "ipython",
    "version": 3
   },
   "file_extension": ".py",
   "mimetype": "text/x-python",
   "name": "python",
   "nbconvert_exporter": "python",
   "pygments_lexer": "ipython3",
   "version": "3.12.3"
  }
 },
 "nbformat": 4,
 "nbformat_minor": 2
}
