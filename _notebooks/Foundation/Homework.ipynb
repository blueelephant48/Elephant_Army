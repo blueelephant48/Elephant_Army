{
 "cells": [
  {
   "cell_type": "markdown",
   "metadata": {},
   "source": [
    "### Homework Objectives\n",
    "\n",
    "Create a program that simulates a coin flip game! Make it so that you have to flip 3 coins, and if you flip heads on each coin flip, you print out dialogue saying that you won. If you flip tails on a coin flip, then you automatically lose. After every coin flip, specify if you won or lost. Print out special text when the game ends and make it different depending on if you won or lost.\n",
    "\n",
    "##### ACTUALLY THIS IS KINDA BORING REMOVE THIS IF YOU THINK OF SOMETHING ELSE"
   ]
  },
  {
   "cell_type": "markdown",
   "metadata": {},
   "source": [
    "### Homework Objectives\n",
    "\n",
    "You and your friend want to do different things at the amusement park. To decide, you do a coin flip. Heads means that you get to choose where to go and tails means that your friend gets to choose. If you go on a ride, be sure to check if you are the right height, and if you go to a food stand, make sure that you have enough money and that the food is in stock. Be creative, and make sure to use nested conditionals!"
   ]
  },
  {
   "cell_type": "markdown",
   "metadata": {},
   "source": [
    "### Instructions\n",
    "\n",
    "1) Create a JavaScript file (Ex. name.js)\n",
    "\n",
    "2) "
   ]
  }
 ],
 "metadata": {
  "language_info": {
   "name": "python"
  }
 },
 "nbformat": 4,
 "nbformat_minor": 2
}
