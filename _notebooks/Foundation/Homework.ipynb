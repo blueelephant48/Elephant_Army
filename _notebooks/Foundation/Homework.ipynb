{
 "cells": [
  {
   "cell_type": "code",
   "execution_count": null,
   "metadata": {
    "vscode": {
     "languageId": "plaintext"
    }
   },
   "outputs": [],
   "source": [
    "// Generate a random grade between 0 and 12\n",
    "let grade = Math.round(Math.random() * 12);\n",
    "\n",
    "// Print the grade\n",
    "console.log(`You are in grade ${grade}.`);\n",
    "\n",
    "// Determine the school level and if the student is in their last year\n",
    "if (grade === 0) {\n",
    "    console.log(\"You are in kindergarten.\");\n",
    "} else if (grade >= 1 && grade <= 5) {\n",
    "    console.log(\"You are in elementary school.\");\n",
    "    if (grade === 5) {\n",
    "        console.log(\"You will graduate this year from elementary school.\");\n",
    "    }\n",
    "} else if (grade >= 6 && grade <= 8) {\n",
    "    console.log(\"You are in middle school.\");\n",
    "    if (grade === 8) {\n",
    "        console.log(\"You will graduate this year from middle school.\");\n",
    "    }\n",
    "} else if (grade >= 9 && grade <= 12) {\n",
    "    console.log(\"You are in high school.\");\n",
    "    if (grade === 12) {\n",
    "        console.log(\"You will graduate this year from high school.\");\n",
    "    }\n",
    "}"
   ]
  },
  {
   "cell_type": "code",
   "execution_count": null,
   "metadata": {
    "vscode": {
     "languageId": "plaintext"
    }
   },
   "outputs": [],
   "source": []
  }
 ],
 "metadata": {
  "language_info": {
   "name": "python"
  }
 },
 "nbformat": 4,
 "nbformat_minor": 2
}
