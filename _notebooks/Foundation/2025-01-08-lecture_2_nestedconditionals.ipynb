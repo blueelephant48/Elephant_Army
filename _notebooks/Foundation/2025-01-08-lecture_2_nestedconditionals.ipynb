{
 "cells": [
  {
   "cell_type": "raw",
   "metadata": {
    "vscode": {
     "languageId": "raw"
    }
   },
   "source": [
    "---\n",
    "layout: post\n",
    "title: Nested Conditionals, Part Two\n",
    "description:  Nested Conditionals with Booleans\n",
    "type: issues \n",
    "comments: true\n",
    "---"
   ]
  },
  {
   "cell_type": "markdown",
   "metadata": {},
   "source": [
    "# Nested Conditionals with Booleans"
   ]
  },
  {
   "cell_type": "markdown",
   "metadata": {},
   "source": [
    "A boolean is a data type that has only two possible values: true and false.\n",
    "\n",
    "Here is an example of a nested conditional with booleans. At an amusement park, you need to be a certain height and age to go on some rides. This code checks if a person meets those requirements and can go on the ride."
   ]
  },
  {
   "cell_type": "code",
   "execution_count": 1,
   "metadata": {
    "vscode": {
     "languageId": "javascript"
    }
   },
   "outputs": [
    {
     "data": {
      "application/javascript": "\nlet isTallEnough = true;  // Boolean: Is the visitor tall enough?\nlet isOldEnough = false;  // Boolean: Is the visitor old enough?\n\nif (isTallEnough) { // Outer condition: visitor meets the height requirement\n    if (isOldEnough) { // Nested condition: visitor meets the age requirement\n        console.log(\"You can go on all rides!\");\n    } else {\n        console.log(\"You can go on most rides, but not the adult ones.\");\n    }\n} else {\n    console.log(\"Sorry, you don't meet the height requirement for any rides.\");\n}\n",
      "text/plain": [
       "<IPython.core.display.Javascript object>"
      ]
     },
     "metadata": {},
     "output_type": "display_data"
    }
   ],
   "source": [
    "%%js\n",
    "\n",
    "let isTallEnough = true;  // Boolean: Is the visitor tall enough?\n",
    "let isOldEnough = false;  // Boolean: Is the visitor old enough?\n",
    "\n",
    "if (isTallEnough) { // Outer condition: visitor meets the height requirement\n",
    "    if (isOldEnough) { // Nested condition: visitor meets the age requirement\n",
    "        console.log(\"You can go on all rides!\");\n",
    "    } else {\n",
    "        console.log(\"You can go on most rides, but not the adult ones.\");\n",
    "    }\n",
    "} else {\n",
    "    console.log(\"Sorry, you don't meet the height requirement for any rides.\");\n",
    "}\n"
   ]
  },
  {
   "cell_type": "markdown",
   "metadata": {},
   "source": [
    "Two variables are defined at the beginning of the code: isTallEnough and isOldEnough. Each is set to a boolean value. The first conditional checks the value of isTallEnough to see if it is true or false, and if it is true, it goes on to the next conditional to check the value of isOldEnough. If isTallEnough is false, it doesn't check the age and prints that you aren't tall enough."
   ]
  }
 ],
 "metadata": {
  "kernelspec": {
   "display_name": "Python 3",
   "language": "python",
   "name": "python3"
  },
  "language_info": {
   "codemirror_mode": {
    "name": "ipython",
    "version": 3
   },
   "file_extension": ".py",
   "mimetype": "text/x-python",
   "name": "python",
   "nbconvert_exporter": "python",
   "pygments_lexer": "ipython3",
   "version": "3.12.3"
  }
 },
 "nbformat": 4,
 "nbformat_minor": 2
}
